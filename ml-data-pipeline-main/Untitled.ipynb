{
 "cells": [
  {
   "cell_type": "code",
   "execution_count": 51,
   "id": "86c9df4c",
   "metadata": {},
   "outputs": [],
   "source": [
    "file_path=\"sample_data/kafka-sensor-topic/aps_failure_training_set1.csv\""
   ]
  },
  {
   "cell_type": "code",
   "execution_count": 52,
   "id": "4043e2c1",
   "metadata": {},
   "outputs": [],
   "source": [
    "import os"
   ]
  },
  {
   "cell_type": "code",
   "execution_count": 53,
   "id": "1fecb9a8",
   "metadata": {},
   "outputs": [],
   "source": [
    "import pandas as pd"
   ]
  },
  {
   "cell_type": "code",
   "execution_count": 54,
   "id": "08bd571e",
   "metadata": {},
   "outputs": [],
   "source": [
    "class Generic :\n",
    "    def __init__(self,record:dict) -> None:\n",
    "        for k,v in record.items():\n",
    "            setattr(self,k,v)\n",
    "    def to_dict(self):\n",
    "        return self.__dict__"
   ]
  },
  {
   "cell_type": "code",
   "execution_count": 55,
   "id": "06d36bc7",
   "metadata": {},
   "outputs": [],
   "source": [
    "record = {\"Intro\" : {\"name\":\"Dileep\" , \"age\" :30,\"educaton\":\"masters\"},\n",
    "          \"CTC\" : 22.4 ,\n",
    "          \"Married\" : 0}\n",
    "temp = Generic(record=record).to_dict() "
   ]
  },
  {
   "cell_type": "code",
   "execution_count": 58,
   "id": "838f4f5c",
   "metadata": {},
   "outputs": [],
   "source": [
    "def get_object(file_path):\n",
    "        chunk_df = pd.read_csv(file_path, chunksize=10)\n",
    "        n_row = 0\n",
    "        print(chunk_df)\n",
    "        for df in chunk_df:\n",
    "            for data in df.values:\n",
    "                print(data)\n",
    "                generic = Generic(dict(zip(df.columns, list(map(str,data)))))\n",
    "                # cars.append(car)\n",
    "                # print(n_row)\n",
    "                n_row += 1\n",
    "                yield generic"
   ]
  },
  {
   "cell_type": "code",
   "execution_count": null,
   "id": "396a9c6f",
   "metadata": {},
   "outputs": [],
   "source": [
    "for obj in get_object(file_path):\n",
    "    print(\"Generated Generic Object:\", obj)\n",
    "    print(obj.to_dict())"
   ]
  },
  {
   "cell_type": "code",
   "execution_count": null,
   "id": "89cca242",
   "metadata": {},
   "outputs": [],
   "source": [
    "print(temp[\"Intro\"][\"name\"])"
   ]
  },
  {
   "cell_type": "code",
   "execution_count": null,
   "id": "25640fe2",
   "metadata": {},
   "outputs": [],
   "source": [
    "SAMPLE_DIR = os.path.join(\"sample_data\")\n",
    "print(SAMPLE_DIR)\n",
    "topics = os.listdir(SAMPLE_DIR)\n",
    "print(f'topics: [{topics}]')\n",
    "for topic in topics:\n",
    "    sample_topic_data_dir = os.path.join(SAMPLE_DIR,topic)\n",
    "    sample_file_path = os.path.join(sample_topic_data_dir,os.listdir(sample_topic_data_dir)[0])\n",
    "    if not os.path.isdir(sample_topic_data_dir):\n",
    "        raise ValueError(f\"{sample_topic_data_dir} is not a valid directory.\")\n",
    "\n",
    "    print(sample_file_path)\n"
   ]
  },
  {
   "cell_type": "code",
   "execution_count": 10,
   "id": "6500a8c2",
   "metadata": {},
   "outputs": [],
   "source": [
    "path = os.path.join(file_path)"
   ]
  },
  {
   "cell_type": "markdown",
   "id": "2365250c",
   "metadata": {},
   "source": [
    "pip install pandas\n",
    "\n"
   ]
  },
  {
   "cell_type": "code",
   "execution_count": 11,
   "id": "b45f87c8",
   "metadata": {},
   "outputs": [],
   "source": [
    "import pandas as pd"
   ]
  },
  {
   "cell_type": "code",
   "execution_count": 12,
   "id": "7227bd90",
   "metadata": {},
   "outputs": [],
   "source": [
    "df = pd.read_csv(file_path,na_values=\"na\")"
   ]
  },
  {
   "cell_type": "code",
   "execution_count": null,
   "id": "4e4e6b2f",
   "metadata": {},
   "outputs": [],
   "source": [
    "df[df.notna()]"
   ]
  },
  {
   "cell_type": "code",
   "execution_count": 14,
   "id": "e76e8789",
   "metadata": {},
   "outputs": [],
   "source": [
    "df=df[df.notna()].replace(\"na\",0)"
   ]
  },
  {
   "cell_type": "code",
   "execution_count": 15,
   "id": "9d6ab2f0",
   "metadata": {},
   "outputs": [],
   "source": [
    "from typing import List"
   ]
  },
  {
   "cell_type": "code",
   "execution_count": null,
   "id": "5ff298ec",
   "metadata": {},
   "outputs": [],
   "source": []
  },
  {
   "cell_type": "code",
   "execution_count": 16,
   "id": "0b4f2d57",
   "metadata": {},
   "outputs": [],
   "source": [
    "from typing import List\n",
    "import pandas as pd\n",
    "\n",
    "\n",
    "class Sensor:\n",
    "\n",
    "\n",
    "    def __init__(self, record: dict):\n",
    "        for k, v in record.items():\n",
    "            setattr(self, k, v)\n",
    "\n",
    "    @staticmethod\n",
    "    def dict_to_object(data: dict, ctx):\n",
    "        print(data, ctx)\n",
    "        return Sensor(record=data)\n",
    "\n",
    "    def to_dict(self):\n",
    "        return self.__dict__\n",
    "    @classmethod\n",
    "    def get_sensor_record(cls, file_path):\n",
    "        chunk_df = pd.read_csv(file_path,chunksize=10)\n",
    "        n_row = 0\n",
    "        for df in chunk_df:\n",
    "            for data in df.values:\n",
    "                sensor = Sensor(dict(zip(df.columns, data)))\n",
    "                # cars.append(car)\n",
    "                #print(n_row)\n",
    "                n_row += 1\n",
    "                yield sensor\n",
    "\n",
    "    @classmethod\n",
    "    def get_schema(cls,file_path):\n",
    "        columns = next(pd.read_csv(file_path,chunksize=10)).columns\n",
    "    \n",
    "        schema = dict()\n",
    "        schema.update({\n",
    "            \"$id\": \"http://example.com/myURI.schema.json\",\n",
    "            \"$schema\": \"http://json-schema.org/draft-07/schema#\",\n",
    "            \"additionalProperties\": \"false\",\n",
    "            \"description\": \"Sample schema to help you get started.\",\n",
    "            'properties': dict(),\n",
    "            \"title\": \"SampleRecord\",\n",
    "            \"type\": \"object\"})\n",
    "        for column in columns:\n",
    "            schema['properties'].update(\n",
    "                {\n",
    "                    column: {\n",
    "                        \"description\": f\"sensor {column} \",\n",
    "                        \"type\": \"string\"\n",
    "                    }\n",
    "                }\n",
    "            )\n",
    "        return schema\n",
    "\n",
    "    def __str__(self):\n",
    "        return f\"{self.record}\"\n",
    "\n"
   ]
  },
  {
   "cell_type": "code",
   "execution_count": null,
   "id": "cf181ab3",
   "metadata": {},
   "outputs": [],
   "source": [
    "Sensor.get_schema(file_path=file_path)"
   ]
  },
  {
   "cell_type": "code",
   "execution_count": 18,
   "id": "6f624ce4",
   "metadata": {},
   "outputs": [],
   "source": [
    "sensor_record = Sensor.get_sensor_record(file_path=file_path)"
   ]
  },
  {
   "cell_type": "code",
   "execution_count": null,
   "id": "fff352b8",
   "metadata": {},
   "outputs": [],
   "source": [
    "n_r=0\n",
    "for record in sensor_record:\n",
    "    n_r+=1\n",
    "    if n_r%10000==0:\n",
    "        print(record.to_dict())\n",
    "print(n_r)"
   ]
  },
  {
   "cell_type": "code",
   "execution_count": null,
   "id": "5d5099b8",
   "metadata": {},
   "outputs": [],
   "source": [
    "df"
   ]
  },
  {
   "cell_type": "code",
   "execution_count": 30,
   "id": "d5080a27",
   "metadata": {},
   "outputs": [],
   "source": [
    "column_name=df.columns"
   ]
  },
  {
   "cell_type": "code",
   "execution_count": null,
   "id": "49b55475",
   "metadata": {},
   "outputs": [],
   "source": [
    "column_name"
   ]
  },
  {
   "cell_type": "code",
   "execution_count": null,
   "id": "6277efbe",
   "metadata": {},
   "outputs": [],
   "source": [
    "{\"brand\": {\n",
    "      \"description\": \"The type(v) type is used.\",\n",
    "      \"type\": \"string\"\n",
    "    }}"
   ]
  },
  {
   "cell_type": "code",
   "execution_count": 24,
   "id": "fb919469",
   "metadata": {},
   "outputs": [],
   "source": [
    "schema_str = \"\"\"\n",
    "    {\n",
    "  \"$id\": \"http://example.com/myURI.schema.json\",\n",
    "  \"$schema\": \"http://json-schema.org/draft-07/schema#\",\n",
    "  \"additionalProperties\": false,\n",
    "  \"description\": \"Sample schema to help you get started.\",\n",
    "  \"properties\": {\n",
    "    \"brand\": {\n",
    "      \"description\": \"The type(v) type is used.\",\n",
    "      \"type\": \"string\"\n",
    "    },\n",
    "    \"car_name\": {\n",
    "      \"description\": \"The type(v) type is used.\",\n",
    "      \"type\": \"string\"\n",
    "    },\n",
    "    \"engine\": {\n",
    "      \"description\": \"The type(v) type is used.\",\n",
    "      \"type\": \"number\"\n",
    "    },\n",
    "    \"fuel_type\": {\n",
    "      \"description\": \"The type(v) type is used.\",\n",
    "      \"type\": \"string\"\n",
    "    },\n",
    "    \"km_driven\": {\n",
    "      \"description\": \"The type(v) type is used.\",\n",
    "      \"type\": \"number\"\n",
    "    },\n",
    "    \"max_power\": {\n",
    "      \"description\": \"The type(v) type is used.\",\n",
    "      \"type\": \"number\"\n",
    "    },\n",
    "    \"mileage\": {\n",
    "      \"description\": \"The type(v) type is used.\",\n",
    "      \"type\": \"number\"\n",
    "    },\n",
    "    \"model\": {\n",
    "      \"description\": \"The type(v) type is used.\",\n",
    "      \"type\": \"string\"\n",
    "    },\n",
    "    \"seats\": {\n",
    "      \"description\": \"The type(v) type is used.\",\n",
    "      \"type\": \"number\"\n",
    "    },\n",
    "    \"seller_type\": {\n",
    "      \"description\": \"The type(v) type is used.\",\n",
    "      \"type\": \"string\"\n",
    "    },\n",
    "    \"selling_price\": {\n",
    "      \"description\": \"The type(v) type is used.\",\n",
    "      \"type\": \"number\"\n",
    "    },\n",
    "    \"transmission_type\": {\n",
    "      \"description\": \"The type(v) type is used.\",\n",
    "      \"type\": \"string\"\n",
    "    },\n",
    "    \"vehicle_age\": {\n",
    "      \"description\": \"The type(v) type is used.\",\n",
    "      \"type\": \"number\"\n",
    "    }\n",
    "  },\n",
    "  \"title\": \"SampleRecord\",\n",
    "  \"type\": \"object\"\n",
    "}\"\"\""
   ]
  },
  {
   "cell_type": "code",
   "execution_count": null,
   "id": "4371cbb7",
   "metadata": {},
   "outputs": [],
   "source": [
    "print(schema_str)"
   ]
  },
  {
   "cell_type": "code",
   "execution_count": null,
   "id": "038cf8fc",
   "metadata": {},
   "outputs": [],
   "source": []
  }
 ],
 "metadata": {
  "kernelspec": {
   "display_name": "Python 3 (ipykernel)",
   "language": "python",
   "name": "python3"
  },
  "language_info": {
   "codemirror_mode": {
    "name": "ipython",
    "version": 3
   },
   "file_extension": ".py",
   "mimetype": "text/x-python",
   "name": "python",
   "nbconvert_exporter": "python",
   "pygments_lexer": "ipython3",
   "version": "3.9.6"
  },
  "vscode": {
   "interpreter": {
    "hash": "916dbcbb3f70747c44a77c7bcd40155683ae19c65e1c03b4aa3499c5328201f1"
   }
  }
 },
 "nbformat": 4,
 "nbformat_minor": 5
}
